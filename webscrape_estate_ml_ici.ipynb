{
 "cells": [
  {
   "cell_type": "code",
   "execution_count": 1,
   "metadata": {},
   "outputs": [
    {
     "ename": "KeyboardInterrupt",
     "evalue": "",
     "output_type": "error",
     "traceback": [
      "\u001b[0;31m---------------------------------------------------------------------------\u001b[0m",
      "\u001b[0;31mKeyboardInterrupt\u001b[0m                         Traceback (most recent call last)",
      "Cell \u001b[0;32mIn[1], line 70\u001b[0m\n\u001b[1;32m     68\u001b[0m     \u001b[38;5;28;01mexcept\u001b[39;00m \u001b[38;5;167;01mException\u001b[39;00m \u001b[38;5;28;01mas\u001b[39;00m e:\n\u001b[1;32m     69\u001b[0m         \u001b[38;5;28mprint\u001b[39m(\u001b[38;5;124mf\u001b[39m\u001b[38;5;124m\"\u001b[39m\u001b[38;5;124mError processing a building element: \u001b[39m\u001b[38;5;132;01m{\u001b[39;00me\u001b[38;5;132;01m}\u001b[39;00m\u001b[38;5;124m\"\u001b[39m)\n\u001b[0;32m---> 70\u001b[0m     \u001b[43mrandom_sleep\u001b[49m\u001b[43m(\u001b[49m\u001b[38;5;241;43m0.5\u001b[39;49m\u001b[43m,\u001b[49m\u001b[43m \u001b[49m\u001b[38;5;241;43m1.5\u001b[39;49m\u001b[43m)\u001b[49m\n\u001b[1;32m     72\u001b[0m \u001b[38;5;66;03m# Convert the list to a DataFrame\u001b[39;00m\n\u001b[1;32m     73\u001b[0m df \u001b[38;5;241m=\u001b[39m pd\u001b[38;5;241m.\u001b[39mDataFrame(records)\n",
      "Cell \u001b[0;32mIn[1], line 26\u001b[0m, in \u001b[0;36mrandom_sleep\u001b[0;34m(min_delay, max_delay)\u001b[0m\n\u001b[1;32m     24\u001b[0m \u001b[38;5;28;01mdef\u001b[39;00m \u001b[38;5;21mrandom_sleep\u001b[39m(min_delay\u001b[38;5;241m=\u001b[39m\u001b[38;5;241m1\u001b[39m, max_delay\u001b[38;5;241m=\u001b[39m\u001b[38;5;241m3\u001b[39m):\n\u001b[1;32m     25\u001b[0m \u001b[38;5;250m    \u001b[39m\u001b[38;5;124;03m\"\"\"Pause for a random time between min_delay and max_delay seconds.\"\"\"\u001b[39;00m\n\u001b[0;32m---> 26\u001b[0m     \u001b[43mtime\u001b[49m\u001b[38;5;241;43m.\u001b[39;49m\u001b[43msleep\u001b[49m\u001b[43m(\u001b[49m\u001b[43mrandom\u001b[49m\u001b[38;5;241;43m.\u001b[39;49m\u001b[43muniform\u001b[49m\u001b[43m(\u001b[49m\u001b[43mmin_delay\u001b[49m\u001b[43m,\u001b[49m\u001b[43m \u001b[49m\u001b[43mmax_delay\u001b[49m\u001b[43m)\u001b[49m\u001b[43m)\u001b[49m\n",
      "\u001b[0;31mKeyboardInterrupt\u001b[0m: "
     ]
    }
   ],
   "source": [
    "import time\n",
    "import pandas as pd\n",
    "from tqdm import tqdm\n",
    "import chromedriver_autoinstaller\n",
    "from selenium import webdriver\n",
    "from selenium.webdriver.common.by import By\n",
    "\n",
    "def initialize_driver():\n",
    "    \"\"\"\n",
    "    Automatically installs and initializes ChromeDriver in headless mode.\n",
    "    \"\"\"\n",
    "    chromedriver_autoinstaller.install()\n",
    "    options = webdriver.ChromeOptions()\n",
    "    options.add_argument(\"--headless\")  # Enable headless mode\n",
    "    options.add_argument(\"--no-sandbox\")\n",
    "    options.add_argument(\"--disable-dev-shm-usage\")\n",
    "    return webdriver.Chrome(options=options)\n",
    "\n",
    "# Initialize Selenium driver\n",
    "driver = initialize_driver()\n",
    "\n",
    "# Navigate to the building list page\n",
    "url = \"https://www.midlandici.com.hk/ics/property/building/list?lang=english\"\n",
    "driver.get(url)\n",
    "time.sleep(3)  # Wait for the page to load completely\n",
    "\n",
    "# Find all building card elements.\n",
    "# The card element has a CSS class \"building\" (e.g. \"div.building\")\n",
    "building_elements = driver.find_elements(By.CSS_SELECTOR, \"div.building\")\n",
    "print(f\"Found {len(building_elements)} building elements.\")\n",
    "\n",
    "# Prepare a list to hold data for each building\n",
    "buildings_data = []\n",
    "\n",
    "# Iterate over each building card using tqdm for progress tracking\n",
    "for element in tqdm(building_elements, desc=\"Scraping buildings\"):\n",
    "    try:\n",
    "        # The building details are contained within the <a> tag\n",
    "        a_element = element.find_element(By.TAG_NAME, \"a\")\n",
    "        detail_href = a_element.get_attribute(\"href\")\n",
    "        \n",
    "        # Extract the building name from the child with class \"building-name\"\n",
    "        try:\n",
    "            name_element = a_element.find_element(By.CSS_SELECTOR, \"div.building-name\")\n",
    "            building_name = name_element.text.strip()\n",
    "        except Exception:\n",
    "            building_name = None\n",
    "        \n",
    "        # Extract the address from the child with class \"address\"\n",
    "        try:\n",
    "            address_element = a_element.find_element(By.CSS_SELECTOR, \"div.address\")\n",
    "            address = address_element.text.strip()\n",
    "        except Exception:\n",
    "            address = None\n",
    "        \n",
    "        buildings_data.append({\n",
    "            \"Building Name\": building_name,\n",
    "            \"Address\": address,\n",
    "            \"Detail URL\": detail_href\n",
    "        })\n",
    "    except Exception as e:\n",
    "        print(f\"Error processing element: {e}\")\n",
    "\n",
    "# Convert the list into a DataFrame and save to CSV\n",
    "df_buildings = pd.DataFrame(buildings_data)\n",
    "output_file = \"midlandici_building_list.csv\"\n",
    "df_buildings.to_csv(output_file, index=False)\n",
    "print(f\"Scraped building data saved to: {output_file}\")\n",
    "\n",
    "driver.quit()\n"
   ]
  }
 ],
 "metadata": {
  "kernelspec": {
   "display_name": "base",
   "language": "python",
   "name": "python3"
  },
  "language_info": {
   "codemirror_mode": {
    "name": "ipython",
    "version": 3
   },
   "file_extension": ".py",
   "mimetype": "text/x-python",
   "name": "python",
   "nbconvert_exporter": "python",
   "pygments_lexer": "ipython3",
   "version": "3.10.14"
  }
 },
 "nbformat": 4,
 "nbformat_minor": 2
}
