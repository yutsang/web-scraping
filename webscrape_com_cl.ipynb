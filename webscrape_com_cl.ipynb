{
 "cells": [
  {
   "cell_type": "code",
   "execution_count": 15,
   "metadata": {},
   "outputs": [
    {
     "name": "stderr",
     "output_type": "stream",
     "text": [
      "Processing Areas:   0%|          | 0/53 [00:00<?, ?it/s]"
     ]
    },
    {
     "name": "stdout",
     "output_type": "stream",
     "text": [
      "\n",
      "Processing area: Admiralty (Code: WS005, Region: HK_Island)\n",
      "Fetched 2527 items on page 1 for area Admiralty.\n"
     ]
    },
    {
     "name": "stderr",
     "output_type": "stream",
     "text": [
      "Processing Areas:   2%|▏         | 1/53 [00:11<09:37, 11.11s/it]"
     ]
    },
    {
     "name": "stdout",
     "output_type": "stream",
     "text": [
      "\n",
      "Processing area: Happy Valley (Code: WS048, Region: HK_Island)\n",
      "Fetched 567 items on page 1 for area Happy Valley.\n"
     ]
    },
    {
     "name": "stderr",
     "output_type": "stream",
     "text": [
      "Processing Areas:   4%|▍         | 2/53 [00:22<09:21, 11.02s/it]"
     ]
    },
    {
     "name": "stdout",
     "output_type": "stream",
     "text": [
      "\n",
      "Processing area: Chai Wan (Code: WS012, Region: HK_Island)\n",
      "Fetched 7672 items on page 1 for area Chai Wan.\n"
     ]
    },
    {
     "name": "stderr",
     "output_type": "stream",
     "text": [
      "Processing Areas:   6%|▌         | 3/53 [00:33<09:25, 11.31s/it]"
     ]
    },
    {
     "name": "stdout",
     "output_type": "stream",
     "text": [
      "\n",
      "Processing area: Tin Hau (Code: WS046, Region: HK_Island)\n",
      "Fetched 1914 items on page 1 for area Tin Hau.\n"
     ]
    },
    {
     "name": "stderr",
     "output_type": "stream",
     "text": [
      "Processing Areas:   8%|▊         | 4/53 [00:45<09:23, 11.51s/it]"
     ]
    },
    {
     "name": "stdout",
     "output_type": "stream",
     "text": [
      "\n",
      "Processing area: Taikoo Shing (Code: WS049, Region: HK_Island)\n",
      "Fetched 122 items on page 1 for area Taikoo Shing.\n"
     ]
    },
    {
     "name": "stderr",
     "output_type": "stream",
     "text": [
      "Processing Areas:   9%|▉         | 5/53 [00:56<09:06, 11.39s/it]"
     ]
    },
    {
     "name": "stdout",
     "output_type": "stream",
     "text": [
      "\n",
      "Processing area: Shau Kei Wan (Code: WS011, Region: HK_Island)\n",
      "Fetched 849 items on page 1 for area Shau Kei Wan.\n"
     ]
    },
    {
     "name": "stderr",
     "output_type": "stream",
     "text": [
      "Processing Areas:  11%|█▏        | 6/53 [01:08<08:56, 11.42s/it]"
     ]
    },
    {
     "name": "stdout",
     "output_type": "stream",
     "text": [
      "\n",
      "Processing area: Siu Sai Wan (Code: WS013, Region: HK_Island)\n",
      "Fetched 88 items on page 1 for area Siu Sai Wan.\n"
     ]
    },
    {
     "name": "stderr",
     "output_type": "stream",
     "text": [
      "WARNING:urllib3.connectionpool:Retrying (Retry(total=2, connect=None, read=None, redirect=None, status=None)) after connection broken by 'ReadTimeoutError(\"HTTPSConnectionPool(host='oir.centanet.com', port=443): Read timed out. (read timeout=20)\")': /api/Transaction/GetTransactionList?pageindex=2&pagesize=10000&daterang=01/01/2010-27/02/2025&posttype=B&districtids=WS013&lang=EN\n",
      "Processing Areas:  13%|█▎        | 7/53 [01:58<18:23, 24.00s/it]"
     ]
    },
    {
     "name": "stdout",
     "output_type": "stream",
     "text": [
      "\n",
      "Processing area: Aberdeen (Code: WS047, Region: HK_Island)\n",
      "Fetched 840 items on page 1 for area Aberdeen.\n"
     ]
    },
    {
     "name": "stderr",
     "output_type": "stream",
     "text": [
      "Processing Areas:  15%|█▌        | 8/53 [02:09<14:56, 19.92s/it]"
     ]
    },
    {
     "name": "stdout",
     "output_type": "stream",
     "text": [
      "\n",
      "Processing area: Western District (Code: WS001, Region: HK_Island)\n",
      "Fetched 3545 items on page 1 for area Western District.\n"
     ]
    },
    {
     "name": "stderr",
     "output_type": "stream",
     "text": [
      "Processing Areas:  17%|█▋        | 9/53 [02:21<12:53, 17.58s/it]"
     ]
    },
    {
     "name": "stdout",
     "output_type": "stream",
     "text": [
      "\n",
      "Processing area: Causeway Bay (Code: WS007, Region: HK_Island)\n",
      "Fetched 7932 items on page 1 for area Causeway Bay.\n"
     ]
    },
    {
     "name": "stderr",
     "output_type": "stream",
     "text": [
      "Processing Areas:  19%|█▉        | 10/53 [02:34<11:33, 16.12s/it]"
     ]
    },
    {
     "name": "stdout",
     "output_type": "stream",
     "text": [
      "\n",
      "Processing area: Central (Code: WS004, Region: HK_Island)\n",
      "Fetched 10000 items on page 1 for area Central.\n",
      "Fetched 3416 items on page 2 for area Central.\n"
     ]
    },
    {
     "name": "stderr",
     "output_type": "stream",
     "text": [
      "Processing Areas:  21%|██        | 11/53 [02:59<13:05, 18.70s/it]"
     ]
    },
    {
     "name": "stdout",
     "output_type": "stream",
     "text": [
      "\n",
      "Processing area: North Point (Code: WS008, Region: HK_Island)\n",
      "Fetched 4418 items on page 1 for area North Point.\n"
     ]
    },
    {
     "name": "stderr",
     "output_type": "stream",
     "text": [
      "Processing Areas:  23%|██▎       | 12/53 [03:24<14:13, 20.83s/it]"
     ]
    },
    {
     "name": "stdout",
     "output_type": "stream",
     "text": [
      "\n",
      "Processing area: Quarry Bay (Code: WS009, Region: HK_Island)\n",
      "Fetched 2263 items on page 1 for area Quarry Bay.\n"
     ]
    },
    {
     "name": "stderr",
     "output_type": "stream",
     "text": [
      "Processing Areas:  25%|██▍       | 13/53 [03:37<12:08, 18.22s/it]"
     ]
    },
    {
     "name": "stdout",
     "output_type": "stream",
     "text": [
      "\n",
      "Processing area: Sai Wan Ho (Code: WS010, Region: HK_Island)\n",
      "Fetched 538 items on page 1 for area Sai Wan Ho.\n"
     ]
    },
    {
     "name": "stderr",
     "output_type": "stream",
     "text": [
      "Processing Areas:  26%|██▋       | 14/53 [03:48<10:36, 16.32s/it]"
     ]
    },
    {
     "name": "stdout",
     "output_type": "stream",
     "text": [
      "\n",
      "Processing area: Sheung Wan (Code: WS003, Region: HK_Island)\n",
      "Fetched 10000 items on page 1 for area Sheung Wan.\n",
      "Fetched 2165 items on page 2 for area Sheung Wan.\n"
     ]
    },
    {
     "name": "stderr",
     "output_type": "stream",
     "text": [
      "Processing Areas:  28%|██▊       | 15/53 [04:07<10:47, 17.05s/it]"
     ]
    },
    {
     "name": "stdout",
     "output_type": "stream",
     "text": [
      "\n",
      "Processing area: Southern District (Code: WS002, Region: HK_Island)\n",
      "Fetched 7401 items on page 1 for area Southern District.\n"
     ]
    },
    {
     "name": "stderr",
     "output_type": "stream",
     "text": [
      "Processing Areas:  30%|███       | 16/53 [04:18<09:26, 15.31s/it]"
     ]
    },
    {
     "name": "stdout",
     "output_type": "stream",
     "text": [
      "\n",
      "Processing area: Wan Chai (Code: WS006, Region: HK_Island)\n",
      "Fetched 10000 items on page 1 for area Wan Chai.\n",
      "Fetched 5788 items on page 2 for area Wan Chai.\n"
     ]
    },
    {
     "name": "stderr",
     "output_type": "stream",
     "text": [
      "Processing Areas:  32%|███▏      | 17/53 [04:40<10:22, 17.29s/it]"
     ]
    },
    {
     "name": "stdout",
     "output_type": "stream",
     "text": [
      "\n",
      "Processing area: Cheung Sha Wan (Code: WS015, Region: Kowloon)\n",
      "Fetched 10000 items on page 1 for area Cheung Sha Wan.\n",
      "Fetched 10000 items on page 2 for area Cheung Sha Wan.\n",
      "Fetched 3499 items on page 3 for area Cheung Sha Wan.\n"
     ]
    },
    {
     "name": "stderr",
     "output_type": "stream",
     "text": [
      "Processing Areas:  34%|███▍      | 18/53 [05:14<12:54, 22.12s/it]"
     ]
    },
    {
     "name": "stdout",
     "output_type": "stream",
     "text": [
      "\n",
      "Processing area: Jordan (Code: WS022, Region: Kowloon)\n",
      "Fetched 4618 items on page 1 for area Jordan.\n"
     ]
    },
    {
     "name": "stderr",
     "output_type": "stream",
     "text": [
      "Processing Areas:  36%|███▌      | 19/53 [05:27<10:57, 19.33s/it]"
     ]
    },
    {
     "name": "stdout",
     "output_type": "stream",
     "text": [
      "\n",
      "Processing area: Kowloon Bay (Code: WS031, Region: Kowloon)\n",
      "Fetched 10000 items on page 1 for area Kowloon Bay.\n",
      "Fetched 2994 items on page 2 for area Kowloon Bay.\n"
     ]
    },
    {
     "name": "stderr",
     "output_type": "stream",
     "text": [
      "Processing Areas:  38%|███▊      | 20/53 [05:46<10:38, 19.35s/it]"
     ]
    },
    {
     "name": "stdout",
     "output_type": "stream",
     "text": [
      "\n",
      "Processing area: Kowloon Tong (Code: WS024, Region: Kowloon)\n",
      "Fetched 76 items on page 1 for area Kowloon Tong.\n"
     ]
    },
    {
     "name": "stderr",
     "output_type": "stream",
     "text": [
      "Processing Areas:  40%|███▉      | 21/53 [05:59<09:14, 17.32s/it]"
     ]
    },
    {
     "name": "stdout",
     "output_type": "stream",
     "text": [
      "\n",
      "Processing area: Mei Foo (Code: WS014, Region: Kowloon)\n",
      "Fetched 235 items on page 1 for area Mei Foo.\n"
     ]
    },
    {
     "name": "stderr",
     "output_type": "stream",
     "text": [
      "Processing Areas:  42%|████▏     | 22/53 [06:10<08:06, 15.70s/it]"
     ]
    },
    {
     "name": "stdout",
     "output_type": "stream",
     "text": [
      "\n",
      "Processing area: Ho Man Tin (Code: WS045, Region: Kowloon)\n",
      "Fetched 547 items on page 1 for area Ho Man Tin.\n"
     ]
    },
    {
     "name": "stderr",
     "output_type": "stream",
     "text": [
      "Processing Areas:  43%|████▎     | 23/53 [06:21<07:02, 14.09s/it]"
     ]
    },
    {
     "name": "stdout",
     "output_type": "stream",
     "text": [
      "\n",
      "Processing area: San Po Kong (Code: WS030, Region: Kowloon)\n",
      "Fetched 10000 items on page 1 for area San Po Kong.\n",
      "Fetched 4124 items on page 2 for area San Po Kong.\n"
     ]
    },
    {
     "name": "stderr",
     "output_type": "stream",
     "text": [
      "Processing Areas:  45%|████▌     | 24/53 [06:47<08:36, 17.80s/it]"
     ]
    },
    {
     "name": "stdout",
     "output_type": "stream",
     "text": [
      "\n",
      "Processing area: Tai Kok Tsui (Code: WS018, Region: Kowloon)\n",
      "Fetched 3893 items on page 1 for area Tai Kok Tsui.\n"
     ]
    },
    {
     "name": "stderr",
     "output_type": "stream",
     "text": [
      "Processing Areas:  47%|████▋     | 25/53 [07:00<07:37, 16.35s/it]"
     ]
    },
    {
     "name": "stdout",
     "output_type": "stream",
     "text": [
      "\n",
      "Processing area: Tsim Sha Tsui (Code: WS023, Region: Kowloon)\n",
      "Fetched 10000 items on page 1 for area Tsim Sha Tsui.\n",
      "Fetched 10000 items on page 2 for area Tsim Sha Tsui.\n",
      "Fetched 897 items on page 3 for area Tsim Sha Tsui.\n"
     ]
    },
    {
     "name": "stderr",
     "output_type": "stream",
     "text": [
      "Processing Areas:  49%|████▉     | 26/53 [07:25<08:30, 18.91s/it]"
     ]
    },
    {
     "name": "stdout",
     "output_type": "stream",
     "text": [
      "\n",
      "Processing area: Wong Tai Sin (Code: WS029, Region: Kowloon)\n",
      "Fetched 358 items on page 1 for area Wong Tai Sin.\n"
     ]
    },
    {
     "name": "stderr",
     "output_type": "stream",
     "text": [
      "Processing Areas:  51%|█████     | 27/53 [07:37<07:13, 16.66s/it]"
     ]
    },
    {
     "name": "stdout",
     "output_type": "stream",
     "text": [
      "\n",
      "Processing area: Hung Hom (Code: WS027, Region: Kowloon)\n",
      "Fetched 5006 items on page 1 for area Hung Hom.\n"
     ]
    },
    {
     "name": "stderr",
     "output_type": "stream",
     "text": [
      "Processing Areas:  53%|█████▎    | 28/53 [07:49<06:24, 15.40s/it]"
     ]
    },
    {
     "name": "stdout",
     "output_type": "stream",
     "text": [
      "\n",
      "Processing area: Kai Tak Development Area (Code: WS028, Region: Kowloon)\n",
      "Fetched 54 items on page 1 for area Kai Tak Development Area.\n"
     ]
    },
    {
     "name": "stderr",
     "output_type": "stream",
     "text": [
      "Processing Areas:  55%|█████▍    | 29/53 [08:03<06:00, 15.02s/it]"
     ]
    },
    {
     "name": "stdout",
     "output_type": "stream",
     "text": [
      "\n",
      "Processing area: Kowloon City (Code: WS025, Region: Kowloon)\n",
      "Fetched 540 items on page 1 for area Kowloon City.\n"
     ]
    },
    {
     "name": "stderr",
     "output_type": "stream",
     "text": [
      "Processing Areas:  57%|█████▋    | 30/53 [08:16<05:32, 14.47s/it]"
     ]
    },
    {
     "name": "stdout",
     "output_type": "stream",
     "text": [
      "\n",
      "Processing area: Kwun Tong (Code: WS032, Region: Kowloon)\n",
      "Fetched 10000 items on page 1 for area Kwun Tong.\n",
      "Fetched 10000 items on page 2 for area Kwun Tong.\n",
      "Fetched 10000 items on page 3 for area Kwun Tong.\n",
      "Fetched 10000 items on page 4 for area Kwun Tong.\n",
      "Fetched 10000 items on page 5 for area Kwun Tong.\n",
      "Fetched 1912 items on page 6 for area Kwun Tong.\n"
     ]
    },
    {
     "name": "stderr",
     "output_type": "stream",
     "text": [
      "Processing Areas:  58%|█████▊    | 31/53 [09:15<10:07, 27.63s/it]"
     ]
    },
    {
     "name": "stdout",
     "output_type": "stream",
     "text": [
      "\n",
      "Processing area: Mongkok (Code: WS020, Region: Kowloon)\n",
      "Fetched 10000 items on page 1 for area Mongkok.\n",
      "Fetched 1469 items on page 2 for area Mongkok.\n"
     ]
    },
    {
     "name": "stderr",
     "output_type": "stream",
     "text": [
      "Processing Areas:  60%|██████    | 32/53 [09:47<10:09, 29.04s/it]"
     ]
    },
    {
     "name": "stdout",
     "output_type": "stream",
     "text": [
      "\n",
      "Processing area: Prince Edward (Code: WS019, Region: Kowloon)\n",
      "Fetched 2815 items on page 1 for area Prince Edward.\n"
     ]
    },
    {
     "name": "stderr",
     "output_type": "stream",
     "text": [
      "Processing Areas:  62%|██████▏   | 33/53 [09:58<07:54, 23.73s/it]"
     ]
    },
    {
     "name": "stdout",
     "output_type": "stream",
     "text": [
      "\n",
      "Processing area: Sham Shui Po (Code: WS016, Region: Kowloon)\n",
      "Fetched 2507 items on page 1 for area Sham Shui Po.\n"
     ]
    },
    {
     "name": "stderr",
     "output_type": "stream",
     "text": [
      "Processing Areas:  64%|██████▍   | 34/53 [10:21<07:22, 23.31s/it]"
     ]
    },
    {
     "name": "stdout",
     "output_type": "stream",
     "text": [
      "\n",
      "Processing area: To Kwa Wan (Code: WS026, Region: Kowloon)\n",
      "Fetched 2845 items on page 1 for area To Kwa Wan.\n"
     ]
    },
    {
     "name": "stderr",
     "output_type": "stream",
     "text": [
      "Processing Areas:  66%|██████▌   | 35/53 [10:32<05:57, 19.84s/it]"
     ]
    },
    {
     "name": "stdout",
     "output_type": "stream",
     "text": [
      "\n",
      "Processing area: West Kowloon (Code: WS017, Region: Kowloon)\n",
      "Fetched 121 items on page 1 for area West Kowloon.\n"
     ]
    },
    {
     "name": "stderr",
     "output_type": "stream",
     "text": [
      "Processing Areas:  68%|██████▊   | 36/53 [10:43<04:48, 16.95s/it]"
     ]
    },
    {
     "name": "stdout",
     "output_type": "stream",
     "text": [
      "\n",
      "Processing area: Yau Ma Tei (Code: WS021, Region: Kowloon)\n",
      "Fetched 2540 items on page 1 for area Yau Ma Tei.\n"
     ]
    },
    {
     "name": "stderr",
     "output_type": "stream",
     "text": [
      "Processing Areas:  70%|██████▉   | 37/53 [10:58<04:24, 16.53s/it]"
     ]
    },
    {
     "name": "stdout",
     "output_type": "stream",
     "text": [
      "\n",
      "Processing area: Island District (Code: WS044, Region: NT)\n",
      "Fetched 75 items on page 1 for area Island District.\n"
     ]
    },
    {
     "name": "stderr",
     "output_type": "stream",
     "text": [
      "Processing Areas:  72%|███████▏  | 38/53 [11:12<03:55, 15.69s/it]"
     ]
    },
    {
     "name": "stdout",
     "output_type": "stream",
     "text": [
      "\n",
      "Processing area: Lai King (Code: WS043, Region: NT)\n",
      "Fetched 5 items on page 1 for area Lai King.\n"
     ]
    },
    {
     "name": "stderr",
     "output_type": "stream",
     "text": [
      "Processing Areas:  74%|███████▎  | 39/53 [11:25<03:29, 14.95s/it]"
     ]
    },
    {
     "name": "stdout",
     "output_type": "stream",
     "text": [
      "\n",
      "Processing area: Fanling (Code: WS052, Region: NT)\n",
      "Fetched 2159 items on page 1 for area Fanling.\n"
     ]
    },
    {
     "name": "stderr",
     "output_type": "stream",
     "text": [
      "Processing Areas:  75%|███████▌  | 40/53 [11:38<03:04, 14.20s/it]"
     ]
    },
    {
     "name": "stdout",
     "output_type": "stream",
     "text": [
      "\n",
      "Processing area: Sha Tin (Code: WS035, Region: NT)\n",
      "Fetched 10000 items on page 1 for area Sha Tin.\n",
      "Fetched 8627 items on page 2 for area Sha Tin.\n"
     ]
    },
    {
     "name": "stderr",
     "output_type": "stream",
     "text": [
      "Processing Areas:  77%|███████▋  | 41/53 [11:59<03:15, 16.27s/it]"
     ]
    },
    {
     "name": "stdout",
     "output_type": "stream",
     "text": [
      "\n",
      "Processing area: Ma On Shan (Code: WS054, Region: NT)\n",
      "Fetched 133 items on page 1 for area Ma On Shan.\n"
     ]
    },
    {
     "name": "stderr",
     "output_type": "stream",
     "text": [
      "Processing Areas:  79%|███████▉  | 42/53 [12:11<02:46, 15.11s/it]"
     ]
    },
    {
     "name": "stdout",
     "output_type": "stream",
     "text": [
      "\n",
      "Processing area: Tseung Kwan O (Code: WS037, Region: NT)\n",
      "Fetched 455 items on page 1 for area Tseung Kwan O.\n"
     ]
    },
    {
     "name": "stderr",
     "output_type": "stream",
     "text": [
      "Processing Areas:  81%|████████  | 43/53 [12:24<02:25, 14.58s/it]"
     ]
    },
    {
     "name": "stdout",
     "output_type": "stream",
     "text": [
      "\n",
      "Processing area: Tsuen Wan (Code: WS040, Region: NT)\n",
      "Fetched 10000 items on page 1 for area Tsuen Wan.\n",
      "Fetched 10000 items on page 2 for area Tsuen Wan.\n",
      "Fetched 7576 items on page 3 for area Tsuen Wan.\n"
     ]
    },
    {
     "name": "stderr",
     "output_type": "stream",
     "text": [
      "Processing Areas:  83%|████████▎ | 44/53 [12:54<02:51, 19.03s/it]"
     ]
    },
    {
     "name": "stdout",
     "output_type": "stream",
     "text": [
      "\n",
      "Processing area: Yuen Long (Code: WS038, Region: NT)\n",
      "Fetched 4900 items on page 1 for area Yuen Long.\n"
     ]
    },
    {
     "name": "stderr",
     "output_type": "stream",
     "text": [
      "Processing Areas:  85%|████████▍ | 45/53 [13:06<02:16, 17.00s/it]"
     ]
    },
    {
     "name": "stdout",
     "output_type": "stream",
     "text": [
      "\n",
      "Processing area: Kwai Chung (Code: WS042, Region: NT)\n",
      "Fetched 10000 items on page 1 for area Kwai Chung.\n",
      "Fetched 10000 items on page 2 for area Kwai Chung.\n",
      "Fetched 10000 items on page 3 for area Kwai Chung.\n",
      "Fetched 3914 items on page 4 for area Kwai Chung.\n"
     ]
    },
    {
     "name": "stderr",
     "output_type": "stream",
     "text": [
      "Processing Areas:  87%|████████▋ | 46/53 [13:46<02:46, 23.74s/it]"
     ]
    },
    {
     "name": "stdout",
     "output_type": "stream",
     "text": [
      "\n",
      "Processing area: Sheung Shui (Code: WS051, Region: NT)\n",
      "Fetched 1999 items on page 1 for area Sheung Shui.\n"
     ]
    },
    {
     "name": "stderr",
     "output_type": "stream",
     "text": [
      "Processing Areas:  89%|████████▊ | 47/53 [13:58<02:02, 20.42s/it]"
     ]
    },
    {
     "name": "stdout",
     "output_type": "stream",
     "text": [
      "\n",
      "Processing area: Sai Kung (Code: WS036, Region: NT)\n",
      "Fetched 237 items on page 1 for area Sai Kung.\n"
     ]
    },
    {
     "name": "stderr",
     "output_type": "stream",
     "text": [
      "Processing Areas:  91%|█████████ | 48/53 [14:12<01:32, 18.43s/it]"
     ]
    },
    {
     "name": "stdout",
     "output_type": "stream",
     "text": [
      "\n",
      "Processing area: Tai Wai (Code: WS053, Region: NT)\n",
      "Fetched 805 items on page 1 for area Tai Wai.\n"
     ]
    },
    {
     "name": "stderr",
     "output_type": "stream",
     "text": [
      "Processing Areas:  92%|█████████▏| 49/53 [14:23<01:04, 16.07s/it]"
     ]
    },
    {
     "name": "stdout",
     "output_type": "stream",
     "text": [
      "\n",
      "Processing area: Tai Po (Code: WS034, Region: NT)\n",
      "Fetched 1477 items on page 1 for area Tai Po.\n"
     ]
    },
    {
     "name": "stderr",
     "output_type": "stream",
     "text": [
      "Processing Areas:  94%|█████████▍| 50/53 [14:33<00:42, 14.28s/it]"
     ]
    },
    {
     "name": "stdout",
     "output_type": "stream",
     "text": [
      "\n",
      "Processing area: Tsing Yi (Code: WS041, Region: NT)\n",
      "Fetched 1317 items on page 1 for area Tsing Yi.\n"
     ]
    },
    {
     "name": "stderr",
     "output_type": "stream",
     "text": [
      "Processing Areas:  96%|█████████▌| 51/53 [14:45<00:27, 13.73s/it]"
     ]
    },
    {
     "name": "stdout",
     "output_type": "stream",
     "text": [
      "\n",
      "Processing area: Tuen Mun (Code: WS039, Region: NT)\n",
      "Fetched 10000 items on page 1 for area Tuen Mun.\n",
      "Fetched 1515 items on page 2 for area Tuen Mun.\n"
     ]
    },
    {
     "name": "stderr",
     "output_type": "stream",
     "text": [
      "Processing Areas:  98%|█████████▊| 52/53 [15:04<00:15, 15.20s/it]"
     ]
    },
    {
     "name": "stdout",
     "output_type": "stream",
     "text": [
      "\n",
      "Processing area: Tin Shui Wai (Code: WS050, Region: NT)\n",
      "Fetched 488 items on page 1 for area Tin Shui Wai.\n"
     ]
    },
    {
     "name": "stderr",
     "output_type": "stream",
     "text": [
      "Processing Areas: 100%|██████████| 53/53 [15:17<00:00, 17.31s/it]"
     ]
    },
    {
     "name": "stdout",
     "output_type": "stream",
     "text": [
      "\n",
      "Scraping complete. All data saved in: 2025-02-27_centanet_ici_transaction.csv\n"
     ]
    },
    {
     "name": "stderr",
     "output_type": "stream",
     "text": [
      "\n"
     ]
    }
   ],
   "source": [
    "import time\n",
    "import random\n",
    "import requests\n",
    "import pandas as pd\n",
    "import datetime\n",
    "from tqdm import tqdm\n",
    "import urllib.parse\n",
    "import os\n",
    "from fake_useragent import UserAgent\n",
    "from requests.adapters import HTTPAdapter\n",
    "from requests.packages.urllib3.util.retry import Retry\n",
    "\n",
    "# Configuration\n",
    "DEFAULT_START_DATE = \"2010-01-01\"\n",
    "DEFAULT_END_DATE = datetime.date.today().strftime(\"%Y-%m-%d\")\n",
    "AREA_CODE_FILE = \"Centanet_ICI_Area_Code.xlsx\"\n",
    "BASE_URL = \"https://oir.centanet.com/api/Transaction/GetTransactionList\"\n",
    "PAGESIZE = 10000\n",
    "\n",
    "def get_random_user_agent():\n",
    "    ua = UserAgent()\n",
    "    return ua.random\n",
    "\n",
    "def get_cookies():\n",
    "    # This is a placeholder. In a real scenario, you'd implement a way to get fresh cookies.\n",
    "    return {\n",
    "        \"cookie1\": f\"value1_{random.randint(1000, 9999)}\",\n",
    "        \"cookie2\": f\"value2_{random.randint(1000, 9999)}\"\n",
    "    }\n",
    "\n",
    "def create_session():\n",
    "    session = requests.Session()\n",
    "    retry = Retry(total=3, backoff_factor=0.1, status_forcelist=[500, 502, 503, 504])\n",
    "    adapter = HTTPAdapter(max_retries=retry)\n",
    "    session.mount('http://', adapter)\n",
    "    session.mount('https://', adapter)\n",
    "    return session\n",
    "\n",
    "def main():\n",
    "    try:\n",
    "        start_dt = datetime.datetime.strptime(DEFAULT_START_DATE, \"%Y-%m-%d\")\n",
    "        end_dt = datetime.datetime.strptime(DEFAULT_END_DATE, \"%Y-%m-%d\")\n",
    "    except Exception as e:\n",
    "        print(\"Error parsing dates:\", e)\n",
    "        return\n",
    "\n",
    "    start_api = start_dt.strftime(\"%d/%m/%Y\")\n",
    "    end_api = end_dt.strftime(\"%d/%m/%Y\")\n",
    "    date_range = f\"{start_api}-{end_api}\"\n",
    "    date_range_encoded = urllib.parse.quote(date_range)\n",
    "\n",
    "    try:\n",
    "        area_df = pd.read_excel(AREA_CODE_FILE, engine=\"openpyxl\")\n",
    "    except Exception as e:\n",
    "        print(f\"Error reading {AREA_CODE_FILE}:\", e)\n",
    "        return\n",
    "\n",
    "    output_file = f\"{datetime.date.today().strftime('%Y-%m-%d')}_centanet_ici_transaction.csv\"\n",
    "    if os.path.exists(output_file):\n",
    "        os.remove(output_file)\n",
    "\n",
    "    session = create_session()\n",
    "    cookies = get_cookies()\n",
    "\n",
    "    for idx, row in tqdm(area_df.iterrows(), total=area_df.shape[0], desc=\"Processing Areas\"):\n",
    "        if idx % 10 == 0:\n",
    "            cookies = get_cookies()\n",
    "            session = create_session()\n",
    "\n",
    "        region = row[\"Region\"]\n",
    "        district = row[\"District\"]\n",
    "        code = row[\"Code\"]\n",
    "\n",
    "        print(f\"\\nProcessing area: {district} (Code: {code}, Region: {region})\")\n",
    "        page_index = 1\n",
    "        area_results = []\n",
    "\n",
    "        while True:\n",
    "            url = (f\"{BASE_URL}?pageindex={page_index}&pagesize={PAGESIZE}\"\n",
    "                   f\"&daterang={date_range_encoded}&posttype=B&districtids={code}&lang=EN\")\n",
    "            \n",
    "            headers = {\n",
    "                \"User-Agent\": get_random_user_agent(),\n",
    "                \"Accept\": \"application/json, text/plain, */*\",\n",
    "                \"Accept-Language\": \"en-US,en;q=0.9\",\n",
    "                \"Referer\": \"https://oir.centanet.com/\",\n",
    "                \"Origin\": \"https://oir.centanet.com\",\n",
    "                \"Connection\": \"keep-alive\"\n",
    "            }\n",
    "\n",
    "            #print(f\"Requesting page {page_index} for area {district} …\")\n",
    "            try:\n",
    "                response = session.get(url, headers=headers, cookies=cookies, timeout=20)\n",
    "                response.raise_for_status()\n",
    "                json_data = response.json()\n",
    "            except requests.exceptions.RequestException as e:\n",
    "                print(\"Error during the API request for area\", district, \":\", e)\n",
    "                break\n",
    "\n",
    "            if json_data.get(\"responseCode\") != 1:\n",
    "                print(\"API response not successful; ending pagination for\", district)\n",
    "                break\n",
    "\n",
    "            items = json_data.get(\"data\", {}).get(\"recordList\", {}).get(\"items\", [])\n",
    "            if not items:\n",
    "                #print(f\"No items found on page {page_index} for area {district}.\")\n",
    "                break\n",
    "\n",
    "            for item in items:\n",
    "                item[\"Region\"] = region\n",
    "                item[\"District\"] = district\n",
    "                item[\"AreaCode\"] = code\n",
    "                area_results.append(item)\n",
    "            \n",
    "            print(f\"Fetched {len(items)} items on page {page_index} for area {district}.\")\n",
    "            page_index += 1\n",
    "\n",
    "            time.sleep(random.uniform(3, 5))\n",
    "\n",
    "        if area_results:\n",
    "            df_area = pd.DataFrame(area_results)\n",
    "            df_area.to_csv(output_file, mode=\"a\", index=False, header=not os.path.exists(output_file), encoding=\"utf-8-sig\")\n",
    "            #print(f\"Saved {len(area_results)} items for area {district} into {output_file}.\")\n",
    "        else:\n",
    "            print(f\"No data collected for area {district}.\")\n",
    "        \n",
    "        time.sleep(random.uniform(5, 7))\n",
    "\n",
    "    print(\"\\nScraping complete. All data saved in:\", output_file)\n",
    "\n",
    "if __name__ == \"__main__\":\n",
    "    main()\n"
   ]
  },
  {
   "cell_type": "code",
   "execution_count": 17,
   "metadata": {},
   "outputs": [
    {
     "name": "stderr",
     "output_type": "stream",
     "text": [
      "/var/folders/rx/s42f27kn5j5ddqzlhz7qr2yw0000gn/T/ipykernel_84647/2354615037.py:4: DtypeWarning: Columns (6,16,26) have mixed types. Specify dtype option on import or set low_memory=False.\n",
      "  df_clean = pd.read_csv('2025-02-27_centanet_ici_transaction.csv')\n"
     ]
    },
    {
     "name": "stdout",
     "output_type": "stream",
     "text": [
      "(348777, 34)\n"
     ]
    }
   ],
   "source": [
    "#simple cleansing\n",
    "import pandas as pd \n",
    "\n",
    "df_clean = pd.read_csv('2025-02-27_centanet_ici_transaction.csv')\n",
    "print(df_clean.shape)"
   ]
  },
  {
   "cell_type": "code",
   "execution_count": null,
   "metadata": {},
   "outputs": [
    {
     "name": "stderr",
     "output_type": "stream",
     "text": [
      "/var/folders/rx/s42f27kn5j5ddqzlhz7qr2yw0000gn/T/ipykernel_84647/3232419267.py:20: SettingWithCopyWarning: \n",
      "A value is trying to be set on a copy of a slice from a DataFrame.\n",
      "Try using .loc[row_indexer,col_indexer] = value instead\n",
      "\n",
      "See the caveats in the documentation: https://pandas.pydata.org/pandas-docs/stable/user_guide/indexing.html#returning-a-view-versus-a-copy\n",
      "  df_cleansed.loc[:, 'price'] = df_cleansed['priceInfo'].apply(lambda x: safe_get_value(x, 'price'))\n",
      "/var/folders/rx/s42f27kn5j5ddqzlhz7qr2yw0000gn/T/ipykernel_84647/3232419267.py:22: SettingWithCopyWarning: \n",
      "A value is trying to be set on a copy of a slice from a DataFrame.\n",
      "Try using .loc[row_indexer,col_indexer] = value instead\n",
      "\n",
      "See the caveats in the documentation: https://pandas.pydata.org/pandas-docs/stable/user_guide/indexing.html#returning-a-view-versus-a-copy\n",
      "  df_cleansed.loc[:, 'pricePostTypeDisplayName'] = df_cleansed['priceInfo'].apply(lambda x: safe_get_value(x, 'pricePostTypeDisplayName'))\n",
      "/var/folders/rx/s42f27kn5j5ddqzlhz7qr2yw0000gn/T/ipykernel_84647/3232419267.py:23: SettingWithCopyWarning: \n",
      "A value is trying to be set on a copy of a slice from a DataFrame.\n",
      "Try using .loc[row_indexer,col_indexer] = value instead\n",
      "\n",
      "See the caveats in the documentation: https://pandas.pydata.org/pandas-docs/stable/user_guide/indexing.html#returning-a-view-versus-a-copy\n",
      "  df_cleansed.loc[:, 'avgPrice'] = df_cleansed['priceInfo'].apply(lambda x: safe_get_value(x, 'avgPrice'))\n",
      "/var/folders/rx/s42f27kn5j5ddqzlhz7qr2yw0000gn/T/ipykernel_84647/3232419267.py:25: SettingWithCopyWarning: \n",
      "A value is trying to be set on a copy of a slice from a DataFrame.\n",
      "Try using .loc[row_indexer,col_indexer] = value instead\n",
      "\n",
      "See the caveats in the documentation: https://pandas.pydata.org/pandas-docs/stable/user_guide/indexing.html#returning-a-view-versus-a-copy\n",
      "  df_cleansed.loc[:, 'rental'] = df_cleansed['priceInfo'].apply(lambda x: safe_get_value(x, 'rental'))\n",
      "/var/folders/rx/s42f27kn5j5ddqzlhz7qr2yw0000gn/T/ipykernel_84647/3232419267.py:27: SettingWithCopyWarning: \n",
      "A value is trying to be set on a copy of a slice from a DataFrame.\n",
      "Try using .loc[row_indexer,col_indexer] = value instead\n",
      "\n",
      "See the caveats in the documentation: https://pandas.pydata.org/pandas-docs/stable/user_guide/indexing.html#returning-a-view-versus-a-copy\n",
      "  df_cleansed.loc[:, 'rentPostTypeDisplayName'] = df_cleansed['priceInfo'].apply(lambda x: safe_get_value(x, 'rentPostTypeDisplayName'))\n",
      "/var/folders/rx/s42f27kn5j5ddqzlhz7qr2yw0000gn/T/ipykernel_84647/3232419267.py:28: SettingWithCopyWarning: \n",
      "A value is trying to be set on a copy of a slice from a DataFrame.\n",
      "Try using .loc[row_indexer,col_indexer] = value instead\n",
      "\n",
      "See the caveats in the documentation: https://pandas.pydata.org/pandas-docs/stable/user_guide/indexing.html#returning-a-view-versus-a-copy\n",
      "  df_cleansed.loc[:, 'avgRental'] = df_cleansed['priceInfo'].apply(lambda x: safe_get_value(x, 'avgRental'))\n",
      "/var/folders/rx/s42f27kn5j5ddqzlhz7qr2yw0000gn/T/ipykernel_84647/3232419267.py:43: SettingWithCopyWarning: \n",
      "A value is trying to be set on a copy of a slice from a DataFrame\n",
      "\n",
      "See the caveats in the documentation: https://pandas.pydata.org/pandas-docs/stable/user_guide/indexing.html#returning-a-view-versus-a-copy\n",
      "  df_cleansed.drop(columns=['priceInfo'], inplace=True)\n"
     ]
    },
    {
     "name": "stdout",
     "output_type": "stream",
     "text": [
      "After Selecting Columns, the updated shape is: (348777, 24).\n"
     ]
    }
   ],
   "source": [
    "import ast\n",
    "\n",
    "df_cleansed = df_clean[['id', 'deptDisplayName', 'centabldg', 'transactionDate', 'transactionType',\n",
    "                        'propertyNameCn', 'propertyNameEn', 'propertyUsageDisplayName','floor',\n",
    "                        'unit', 'isPriceEstimated', 'transactionArea', 'sourceDisplayName',\n",
    "                        'priceInfo', 'ibsContractID', 'addressDisplayName', 'Region', 'District',\n",
    "                        'AreaCode']]\n",
    "\n",
    "def safe_get_value(x, key, default=None):\n",
    "    if isinstance(x, str):\n",
    "        try:\n",
    "            x = ast.literal_eval(x)\n",
    "        except (SyntaxError, ValueError):\n",
    "            return default\n",
    "    if isinstance(x, dict):\n",
    "        return x.get(key, default)\n",
    "    return default\n",
    "\n",
    "# Use .loc columns assignment on the DataFrame copy\n",
    "df_cleansed.loc[:, 'price'] = df_cleansed['priceInfo'].apply(lambda x: safe_get_value(x, 'price'))\n",
    "# df_cleansed.loc[:, 'priceDisplayName'] = df_cleansed['priceInfo'].apply(lambda x: safe_get_value(x, 'priceDisplayName'))\n",
    "df_cleansed.loc[:, 'pricePostTypeDisplayName'] = df_cleansed['priceInfo'].apply(lambda x: safe_get_value(x, 'pricePostTypeDisplayName'))\n",
    "df_cleansed.loc[:, 'avgPrice'] = df_cleansed['priceInfo'].apply(lambda x: safe_get_value(x, 'avgPrice'))\n",
    "#df_cleansed.loc[:, 'avgPriceDisplayName'] = df_cleansed['priceInfo'].apply(lambda x: safe_get_value(x, 'avgPriceDisplayName'))\n",
    "df_cleansed.loc[:, 'rental'] = df_cleansed['priceInfo'].apply(lambda x: safe_get_value(x, 'rental'))\n",
    "# df_cleansed.loc[:, 'rentalDisplayName'] = df_cleansed['priceInfo'].apply(lambda x: safe_get_value(x, 'rentalDisplayName'))\n",
    "df_cleansed.loc[:, 'rentPostTypeDisplayName'] = df_cleansed['priceInfo'].apply(lambda x: safe_get_value(x, 'rentPostTypeDisplayName'))\n",
    "df_cleansed.loc[:, 'avgRental'] = df_cleansed['priceInfo'].apply(lambda x: safe_get_value(x, 'avgRental'))\n",
    "#df_cleansed.loc[:, 'avgRentalDisplayName'] = df_cleansed['priceInfo'].apply(lambda x: safe_get_value(x, 'avgRentalDisplayName'))\n",
    "#df_cleansed.loc[:, 'gains_Price'] = df_cleansed['priceInfo'].apply(lambda x: safe_get_value(x, 'gains_Price'))\n",
    "#df_cleansed.loc[:, 'gains_Rental'] = df_cleansed['priceInfo'].apply(lambda x: safe_get_value(x, 'gains_Rental'))\n",
    "#df_cleansed.loc[:, 'priceTo'] = df_cleansed['priceInfo'].apply(lambda x: safe_get_value(x, 'priceTo'))\n",
    "#df_cleansed.loc[:, 'rentalTo'] = df_cleansed['priceInfo'].apply(lambda x: safe_get_value(x, 'rentalTo'))\n",
    "#df_cleansed.loc[:, 'unitPriceTo'] = df_cleansed['priceInfo'].apply(lambda x: safe_get_value(x, 'unitPriceTo'))\n",
    "#df_cleansed.loc[:, 'unitRentalTo'] = df_cleansed['priceInfo'].apply(lambda x: safe_get_value(x, 'unitRentalTo'))\n",
    "#df_cleansed.loc[:, 'priceDesc'] = df_cleansed['priceInfo'].apply(lambda x: safe_get_value(x, 'priceDesc'))\n",
    "#df_cleansed.loc[:, 'fhPriceInfo'] = df_cleansed['priceInfo'].apply(lambda x: safe_get_value(x, 'fhPriceInfo'))\n",
    "#df_cleansed.loc[:, 'fhAvgPriceInfo'] = df_cleansed['priceInfo'].apply(lambda x: safe_get_value(x, 'fhAvgPriceInfo'))\n",
    "#df_cleansed.loc[:, 'fhRentInfo'] = df_cleansed['priceInfo'].apply(lambda x: safe_get_value(x, 'fhRentInfo'))\n",
    "#df_cleansed.loc[:, 'fhAvgRentInfo'] = df_cleansed['priceInfo'].apply(lambda x: safe_get_value(x, 'fhAvgRentInfo'))\n",
    "\n",
    "# Optionally, drop the original priceInfo containing the dictionaries\n",
    "df_cleansed.drop(columns=['priceInfo'], inplace=True)\n",
    "\n",
    "df_cleansed.to_excel('2025-02-27_centanet_ici_transaction.xlsx', index=False)\n",
    "\n",
    "print(f'After Selecting Columns, the updated shape is: {df_cleansed.shape}.')\n",
    "\t\n",
    "\t\t\t\t\t\n",
    "\t\t\t\n",
    "#436.5MB csv -> 53.1MB xlsx -> 51MB xlsx"
   ]
  },
  {
   "cell_type": "code",
   "execution_count": null,
   "metadata": {},
   "outputs": [
    {
     "ename": "NoSuchDriverException",
     "evalue": "Message: Unable to obtain driver for chrome; For documentation on this error, please visit: https://www.selenium.dev/documentation/webdriver/troubleshooting/errors/driver_location\n",
     "output_type": "error",
     "traceback": [
      "\u001b[0;31m---------------------------------------------------------------------------\u001b[0m",
      "\u001b[0;31mValueError\u001b[0m                                Traceback (most recent call last)",
      "File \u001b[0;32m~/miniforge3/lib/python3.10/site-packages/selenium/webdriver/common/driver_finder.py:64\u001b[0m, in \u001b[0;36mDriverFinder._binary_paths\u001b[0;34m(self)\u001b[0m\n\u001b[1;32m     63\u001b[0m \u001b[38;5;28;01mif\u001b[39;00m \u001b[38;5;129;01mnot\u001b[39;00m Path(path)\u001b[38;5;241m.\u001b[39mis_file():\n\u001b[0;32m---> 64\u001b[0m     \u001b[38;5;28;01mraise\u001b[39;00m \u001b[38;5;167;01mValueError\u001b[39;00m(\u001b[38;5;124mf\u001b[39m\u001b[38;5;124m\"\u001b[39m\u001b[38;5;124mThe path is not a valid file: \u001b[39m\u001b[38;5;132;01m{\u001b[39;00mpath\u001b[38;5;132;01m}\u001b[39;00m\u001b[38;5;124m\"\u001b[39m)\n\u001b[1;32m     65\u001b[0m \u001b[38;5;28mself\u001b[39m\u001b[38;5;241m.\u001b[39m_paths[\u001b[38;5;124m\"\u001b[39m\u001b[38;5;124mdriver_path\u001b[39m\u001b[38;5;124m\"\u001b[39m] \u001b[38;5;241m=\u001b[39m path\n",
      "\u001b[0;31mValueError\u001b[0m: The path is not a valid file: /path/to/chromedriver",
      "\nThe above exception was the direct cause of the following exception:\n",
      "\u001b[0;31mNoSuchDriverException\u001b[0m                     Traceback (most recent call last)",
      "Cell \u001b[0;32mIn[30], line 25\u001b[0m\n\u001b[1;32m     23\u001b[0m \u001b[38;5;66;03m# Set up the ChromeDriver service\u001b[39;00m\n\u001b[1;32m     24\u001b[0m service \u001b[38;5;241m=\u001b[39m Service(chromedriver_path)\n\u001b[0;32m---> 25\u001b[0m driver \u001b[38;5;241m=\u001b[39m \u001b[43mwebdriver\u001b[49m\u001b[38;5;241;43m.\u001b[39;49m\u001b[43mChrome\u001b[49m\u001b[43m(\u001b[49m\u001b[43mservice\u001b[49m\u001b[38;5;241;43m=\u001b[39;49m\u001b[43mservice\u001b[49m\u001b[43m,\u001b[49m\u001b[43m \u001b[49m\u001b[43moptions\u001b[49m\u001b[38;5;241;43m=\u001b[39;49m\u001b[43mchrome_options\u001b[49m\u001b[43m)\u001b[49m\n\u001b[1;32m     27\u001b[0m \u001b[38;5;66;03m# Find all CSV files that follow the naming pattern *_centanet_estates.csv\u001b[39;00m\n\u001b[1;32m     28\u001b[0m csv_files \u001b[38;5;241m=\u001b[39m glob\u001b[38;5;241m.\u001b[39mglob(\u001b[38;5;124m\"\u001b[39m\u001b[38;5;124m*_centanet_estates.csv\u001b[39m\u001b[38;5;124m\"\u001b[39m)\n",
      "File \u001b[0;32m~/miniforge3/lib/python3.10/site-packages/selenium/webdriver/chrome/webdriver.py:45\u001b[0m, in \u001b[0;36mWebDriver.__init__\u001b[0;34m(self, options, service, keep_alive)\u001b[0m\n\u001b[1;32m     42\u001b[0m service \u001b[38;5;241m=\u001b[39m service \u001b[38;5;28;01mif\u001b[39;00m service \u001b[38;5;28;01melse\u001b[39;00m Service()\n\u001b[1;32m     43\u001b[0m options \u001b[38;5;241m=\u001b[39m options \u001b[38;5;28;01mif\u001b[39;00m options \u001b[38;5;28;01melse\u001b[39;00m Options()\n\u001b[0;32m---> 45\u001b[0m \u001b[38;5;28;43msuper\u001b[39;49m\u001b[43m(\u001b[49m\u001b[43m)\u001b[49m\u001b[38;5;241;43m.\u001b[39;49m\u001b[38;5;21;43m__init__\u001b[39;49m\u001b[43m(\u001b[49m\n\u001b[1;32m     46\u001b[0m \u001b[43m    \u001b[49m\u001b[43mbrowser_name\u001b[49m\u001b[38;5;241;43m=\u001b[39;49m\u001b[43mDesiredCapabilities\u001b[49m\u001b[38;5;241;43m.\u001b[39;49m\u001b[43mCHROME\u001b[49m\u001b[43m[\u001b[49m\u001b[38;5;124;43m\"\u001b[39;49m\u001b[38;5;124;43mbrowserName\u001b[39;49m\u001b[38;5;124;43m\"\u001b[39;49m\u001b[43m]\u001b[49m\u001b[43m,\u001b[49m\n\u001b[1;32m     47\u001b[0m \u001b[43m    \u001b[49m\u001b[43mvendor_prefix\u001b[49m\u001b[38;5;241;43m=\u001b[39;49m\u001b[38;5;124;43m\"\u001b[39;49m\u001b[38;5;124;43mgoog\u001b[39;49m\u001b[38;5;124;43m\"\u001b[39;49m\u001b[43m,\u001b[49m\n\u001b[1;32m     48\u001b[0m \u001b[43m    \u001b[49m\u001b[43moptions\u001b[49m\u001b[38;5;241;43m=\u001b[39;49m\u001b[43moptions\u001b[49m\u001b[43m,\u001b[49m\n\u001b[1;32m     49\u001b[0m \u001b[43m    \u001b[49m\u001b[43mservice\u001b[49m\u001b[38;5;241;43m=\u001b[39;49m\u001b[43mservice\u001b[49m\u001b[43m,\u001b[49m\n\u001b[1;32m     50\u001b[0m \u001b[43m    \u001b[49m\u001b[43mkeep_alive\u001b[49m\u001b[38;5;241;43m=\u001b[39;49m\u001b[43mkeep_alive\u001b[49m\u001b[43m,\u001b[49m\n\u001b[1;32m     51\u001b[0m \u001b[43m\u001b[49m\u001b[43m)\u001b[49m\n",
      "File \u001b[0;32m~/miniforge3/lib/python3.10/site-packages/selenium/webdriver/chromium/webdriver.py:50\u001b[0m, in \u001b[0;36mChromiumDriver.__init__\u001b[0;34m(self, browser_name, vendor_prefix, options, service, keep_alive)\u001b[0m\n\u001b[1;32m     47\u001b[0m \u001b[38;5;28mself\u001b[39m\u001b[38;5;241m.\u001b[39mservice \u001b[38;5;241m=\u001b[39m service\n\u001b[1;32m     49\u001b[0m finder \u001b[38;5;241m=\u001b[39m DriverFinder(\u001b[38;5;28mself\u001b[39m\u001b[38;5;241m.\u001b[39mservice, options)\n\u001b[0;32m---> 50\u001b[0m \u001b[38;5;28;01mif\u001b[39;00m \u001b[43mfinder\u001b[49m\u001b[38;5;241;43m.\u001b[39;49m\u001b[43mget_browser_path\u001b[49m\u001b[43m(\u001b[49m\u001b[43m)\u001b[49m:\n\u001b[1;32m     51\u001b[0m     options\u001b[38;5;241m.\u001b[39mbinary_location \u001b[38;5;241m=\u001b[39m finder\u001b[38;5;241m.\u001b[39mget_browser_path()\n\u001b[1;32m     52\u001b[0m     options\u001b[38;5;241m.\u001b[39mbrowser_version \u001b[38;5;241m=\u001b[39m \u001b[38;5;28;01mNone\u001b[39;00m\n",
      "File \u001b[0;32m~/miniforge3/lib/python3.10/site-packages/selenium/webdriver/common/driver_finder.py:47\u001b[0m, in \u001b[0;36mDriverFinder.get_browser_path\u001b[0;34m(self)\u001b[0m\n\u001b[1;32m     46\u001b[0m \u001b[38;5;28;01mdef\u001b[39;00m \u001b[38;5;21mget_browser_path\u001b[39m(\u001b[38;5;28mself\u001b[39m) \u001b[38;5;241m-\u001b[39m\u001b[38;5;241m>\u001b[39m \u001b[38;5;28mstr\u001b[39m:\n\u001b[0;32m---> 47\u001b[0m     \u001b[38;5;28;01mreturn\u001b[39;00m \u001b[38;5;28;43mself\u001b[39;49m\u001b[38;5;241;43m.\u001b[39;49m\u001b[43m_binary_paths\u001b[49m\u001b[43m(\u001b[49m\u001b[43m)\u001b[49m[\u001b[38;5;124m\"\u001b[39m\u001b[38;5;124mbrowser_path\u001b[39m\u001b[38;5;124m\"\u001b[39m]\n",
      "File \u001b[0;32m~/miniforge3/lib/python3.10/site-packages/selenium/webdriver/common/driver_finder.py:78\u001b[0m, in \u001b[0;36mDriverFinder._binary_paths\u001b[0;34m(self)\u001b[0m\n\u001b[1;32m     76\u001b[0m \u001b[38;5;28;01mexcept\u001b[39;00m \u001b[38;5;167;01mException\u001b[39;00m \u001b[38;5;28;01mas\u001b[39;00m err:\n\u001b[1;32m     77\u001b[0m     msg \u001b[38;5;241m=\u001b[39m \u001b[38;5;124mf\u001b[39m\u001b[38;5;124m\"\u001b[39m\u001b[38;5;124mUnable to obtain driver for \u001b[39m\u001b[38;5;132;01m{\u001b[39;00mbrowser\u001b[38;5;132;01m}\u001b[39;00m\u001b[38;5;124m\"\u001b[39m\n\u001b[0;32m---> 78\u001b[0m     \u001b[38;5;28;01mraise\u001b[39;00m NoSuchDriverException(msg) \u001b[38;5;28;01mfrom\u001b[39;00m \u001b[38;5;21;01merr\u001b[39;00m\n\u001b[1;32m     79\u001b[0m \u001b[38;5;28;01mreturn\u001b[39;00m \u001b[38;5;28mself\u001b[39m\u001b[38;5;241m.\u001b[39m_paths\n",
      "\u001b[0;31mNoSuchDriverException\u001b[0m: Message: Unable to obtain driver for chrome; For documentation on this error, please visit: https://www.selenium.dev/documentation/webdriver/troubleshooting/errors/driver_location\n"
     ]
    }
   ],
   "source": []
  }
 ],
 "metadata": {
  "kernelspec": {
   "display_name": "base",
   "language": "python",
   "name": "python3"
  },
  "language_info": {
   "codemirror_mode": {
    "name": "ipython",
    "version": 3
   },
   "file_extension": ".py",
   "mimetype": "text/x-python",
   "name": "python",
   "nbconvert_exporter": "python",
   "pygments_lexer": "ipython3",
   "version": "3.10.14"
  }
 },
 "nbformat": 4,
 "nbformat_minor": 2
}
